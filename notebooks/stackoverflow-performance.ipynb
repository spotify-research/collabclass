{
 "cells": [
  {
   "cell_type": "markdown",
   "metadata": {},
   "source": [
    "# StackOverflow, performance\n",
    "\n",
    "Main analysis."
   ]
  },
  {
   "cell_type": "code",
   "execution_count": 1,
   "metadata": {},
   "outputs": [],
   "source": [
    "import collabclass\n",
    "import matplotlib.pyplot as plt\n",
    "import numpy as np\n",
    "import pickle"
   ]
  },
  {
   "cell_type": "code",
   "execution_count": 2,
   "metadata": {},
   "outputs": [],
   "source": [
    "with open(\"../_data/stackoverflow/categories-final.pkl\", \"rb\") as f:\n",
    "    cats = pickle.load(f)\n",
    "    \n",
    "cls2idx = {cls: idx for idx, cls in enumerate(sorted(set(cats.values())))}\n",
    "k = len(cls2idx)"
   ]
  },
  {
   "cell_type": "code",
   "execution_count": 3,
   "metadata": {},
   "outputs": [
    {
     "name": "stdout",
     "output_type": "stream",
     "text": [
      "CPU times: user 16.6 s, sys: 908 ms, total: 17.5 s\n",
      "Wall time: 17.5 s\n"
     ]
    }
   ],
   "source": [
    "%%time\n",
    "with open(\"../_data/stackoverflow/workspace.pkl\", \"rb\") as f:\n",
    "    data = pickle.load(f)\n",
    "\n",
    "user_cnt = 0\n",
    "item_cnt = 0\n",
    "user2idx = dict()\n",
    "item2idx = dict()\n",
    "\n",
    "edges = list()\n",
    "\n",
    "for uid, qid, _ in data[\"edges\"]:\n",
    "    if qid not in cats:\n",
    "        # We dropped the question -> skip.\n",
    "        continue\n",
    "    if qid not in item2idx:\n",
    "        item2idx[qid] = item_cnt\n",
    "        item_cnt += 1\n",
    "    if uid not in user2idx:\n",
    "        user2idx[uid] = user_cnt\n",
    "        user_cnt += 1\n",
    "    edges.append((user2idx[uid], item2idx[qid]))\n",
    "\n",
    "m = user_cnt\n",
    "n = item_cnt\n",
    "    \n",
    "graph = collabclass.graph_from_edges(m, n, edges)"
   ]
  },
  {
   "cell_type": "code",
   "execution_count": 4,
   "metadata": {},
   "outputs": [
    {
     "name": "stdout",
     "output_type": "stream",
     "text": [
      "Number of users:  644,443\n",
      "Number of items:  704,982\n",
      "Number of edges: 2,554,436\n"
     ]
    }
   ],
   "source": [
    "print(\"Number of users:  {:,}\".format(m))\n",
    "print(\"Number of items:  {:,}\".format(n))\n",
    "print(\"Number of edges: {:,}\".format(len(graph.user_edges)))"
   ]
  },
  {
   "cell_type": "code",
   "execution_count": 5,
   "metadata": {},
   "outputs": [],
   "source": [
    "idx2item = {v: k for k, v in item2idx.items()}\n",
    "vs = list()\n",
    "for j in range(n):\n",
    "    cat = cats[idx2item[j]]\n",
    "    vs.append(cls2idx[cat])\n",
    "vs = np.array(vs)"
   ]
  },
  {
   "cell_type": "code",
   "execution_count": 6,
   "metadata": {},
   "outputs": [],
   "source": [
    "np.random.seed(0)\n",
    "vs_hat = collabclass.symmetric_channel(vs, k, delta=0.1)"
   ]
  },
  {
   "cell_type": "code",
   "execution_count": 7,
   "metadata": {},
   "outputs": [
    {
     "data": {
      "image/png": "[encoded data removed]",
      "text/plain": [
       "<Figure size 432x288 with 1 Axes>"
      ]
     },
     "metadata": {
      "needs_background": "light"
     },
     "output_type": "display_data"
    }
   ],
   "source": [
    "vals, cnts = np.unique(vs, return_counts=True)\n",
    "\n",
    "fig, ax = plt.subplots()\n",
    "ax.bar(vals, cnts / cnts.sum());\n",
    "ax.set_xticks(vals)\n",
    "ax.set_xticklabels(sorted(set(cats.values())), rotation=30, ha=\"right\");"
   ]
  },
  {
   "cell_type": "markdown",
   "metadata": {},
   "source": [
    "## CAVI"
   ]
  },
  {
   "cell_type": "code",
   "execution_count": 8,
   "metadata": {},
   "outputs": [],
   "source": [
    "alpha = np.ones((m, k))\n",
    "beta = collabclass.init_beta(k, vs_hat, delta=0.30)"
   ]
  },
  {
   "cell_type": "code",
   "execution_count": 9,
   "metadata": {},
   "outputs": [
    {
     "name": "stdout",
     "output_type": "stream",
     "text": [
      "CPU times: user 5.7 s, sys: 62.8 ms, total: 5.76 s\n",
      "Wall time: 5.78 s\n"
     ]
    }
   ],
   "source": [
    "%%time\n",
    "apost, bpost = collabclass.cavi(graph, alpha, beta, 3)\n",
    "vs_bar = np.argmax(bpost, axis=1)"
   ]
  },
  {
   "cell_type": "code",
   "execution_count": 10,
   "metadata": {
    "scrolled": true
   },
   "outputs": [
    {
     "name": "stdout",
     "output_type": "stream",
     "text": [
      "accuracy:   0.9542\n",
      "error rate: 0.0458\n",
      "FP rate:    0.0110\n",
      "FN rate:    0.3574\n"
     ]
    }
   ],
   "source": [
    "collabclass.print_accuracy(vs_bar, vs, vs_hat)"
   ]
  },
  {
   "cell_type": "code",
   "execution_count": 11,
   "metadata": {},
   "outputs": [
    {
     "name": "stdout",
     "output_type": "stream",
     "text": [
      "accuracy at 50th percentile (d ≥ 3): 0.9629\n",
      "accuracy at 90th percentile (d ≥ 6): 0.9697\n",
      "accuracy at 98th percentile (d ≥ 10): 0.9723\n"
     ]
    }
   ],
   "source": [
    "collabclass.degree_breakdown(vs_bar, vs, graph, qs=(50, 90, 98))"
   ]
  },
  {
   "cell_type": "code",
   "execution_count": 12,
   "metadata": {},
   "outputs": [
    {
     "data": {
      "image/png": "[encoded data removed]",
      "text/plain": [
       "<Figure size 432x432 with 1 Axes>"
      ]
     },
     "metadata": {
      "needs_background": "light"
     },
     "output_type": "display_data"
    }
   ],
   "source": [
    "collabclass.confusion_matrix(vs_bar, vs);"
   ]
  },
  {
   "cell_type": "markdown",
   "metadata": {},
   "source": [
    "What about if we \"loosen\" the criterion a bit and look at the top-2 classes?"
   ]
  },
  {
   "cell_type": "code",
   "execution_count": 13,
   "metadata": {},
   "outputs": [
    {
     "name": "stdout",
     "output_type": "stream",
     "text": [
      "top-2 accuracy at 0th percentile (d ≥ 1): 0.9861\n",
      "top-2 accuracy at 50th percentile (d ≥ 3): 0.9906\n",
      "top-2 accuracy at 90th percentile (d ≥ 6): 0.9930\n",
      "top-2 accuracy at 95th percentile (d ≥ 8): 0.9936\n"
     ]
    }
   ],
   "source": [
    "collabclass.degree_breakdown_topk(bpost, vs, graph, k=2)"
   ]
  },
  {
   "cell_type": "markdown",
   "metadata": {},
   "source": [
    "## wvRN"
   ]
  },
  {
   "cell_type": "code",
   "execution_count": 14,
   "metadata": {},
   "outputs": [
    {
     "name": "stdout",
     "output_type": "stream",
     "text": [
      "CPU times: user 374 ms, sys: 20.4 ms, total: 394 ms\n",
      "Wall time: 393 ms\n"
     ]
    }
   ],
   "source": [
    "%%time\n",
    "vs_bar = collabclass.wvrn(graph, vs_hat)"
   ]
  },
  {
   "cell_type": "code",
   "execution_count": 15,
   "metadata": {},
   "outputs": [
    {
     "name": "stdout",
     "output_type": "stream",
     "text": [
      "accuracy:   0.8147\n",
      "error rate: 0.1853\n",
      "FP rate:    0.1840\n",
      "FN rate:    0.1973\n"
     ]
    }
   ],
   "source": [
    "collabclass.print_accuracy(vs_bar, vs, vs_hat)"
   ]
  },
  {
   "cell_type": "code",
   "execution_count": 16,
   "metadata": {
    "scrolled": true
   },
   "outputs": [
    {
     "name": "stdout",
     "output_type": "stream",
     "text": [
      "accuracy at 50th percentile (d ≥ 3): 0.8431\n",
      "accuracy at 90th percentile (d ≥ 6): 0.8505\n",
      "accuracy at 95th percentile (d ≥ 8): 0.8528\n",
      "accuracy at 99th percentile (d ≥ 12): 0.8531\n"
     ]
    }
   ],
   "source": [
    "collabclass.degree_breakdown(vs_bar, vs, graph, qs=(50, 90, 95, 99))"
   ]
  },
  {
   "cell_type": "code",
   "execution_count": 17,
   "metadata": {},
   "outputs": [
    {
     "data": {
      "image/png": "[encoded data removed]",
      "text/plain": [
       "<Figure size 432x432 with 1 Axes>"
      ]
     },
     "metadata": {
      "needs_background": "light"
     },
     "output_type": "display_data"
    }
   ],
   "source": [
    "collabclass.confusion_matrix(vs_bar, vs);"
   ]
  },
  {
   "cell_type": "markdown",
   "metadata": {},
   "source": [
    "## Deep dive into errors of CAVI"
   ]
  },
  {
   "cell_type": "code",
   "execution_count": 18,
   "metadata": {},
   "outputs": [
    {
     "name": "stdout",
     "output_type": "stream",
     "text": [
      "---\n",
      "Actual: sql, predicted: c#\n",
      "URL: https://stackoverflow.com/questions/11043\n",
      "---\n",
      "Actual: sql, predicted: c#\n",
      "URL: https://stackoverflow.com/questions/31057\n",
      "---\n",
      "Actual: sql, predicted: java\n",
      "URL: https://stackoverflow.com/questions/64749\n",
      "---\n",
      "Actual: php, predicted: python\n",
      "URL: https://stackoverflow.com/questions/91618\n",
      "---\n",
      "Actual: java, predicted: c++\n",
      "URL: https://stackoverflow.com/questions/99164\n",
      "---\n",
      "Actual: ruby-on-rails, predicted: sql\n",
      "URL: https://stackoverflow.com/questions/159087\n",
      "---\n",
      "Actual: javascript, predicted: c#\n",
      "URL: https://stackoverflow.com/questions/173070\n",
      "---\n",
      "Actual: ruby-on-rails, predicted: java\n",
      "URL: https://stackoverflow.com/questions/183462\n",
      "---\n",
      "Actual: php, predicted: c#\n",
      "URL: https://stackoverflow.com/questions/218264\n",
      "---\n",
      "Actual: sql, predicted: php\n",
      "URL: https://stackoverflow.com/questions/276927\n"
     ]
    }
   ],
   "source": [
    "res = np.argsort(bpost, axis=1)[:,::-1]\n",
    "mistakes = ((res[:,0] != vs) & (res[:,1] != vs))\n",
    "not_corrupted = (vs_hat == vs)\n",
    "high_degree = (graph.item_idx[:,1] >= 10)\n",
    "\n",
    "idx2cls = {v: k for k, v in cls2idx.items()}\n",
    "\n",
    "for idx in np.argwhere(mistakes & not_corrupted & high_degree).ravel()[:10]:\n",
    "    print(\"---\")\n",
    "    print(f\"Actual: {idx2cls[vs[idx]]}, predicted: {idx2cls[vs_bar[idx]]}\")\n",
    "    print(f\"URL: https://stackoverflow.com/questions/{idx2item[idx]}\")"
   ]
  }
 ],
 "metadata": {
  "kernelspec": {
   "display_name": "Python 3",
   "language": "python",
   "name": "python3"
  },
  "language_info": {
   "codemirror_mode": {
    "name": "ipython",
    "version": 3
   },
   "file_extension": ".py",
   "mimetype": "text/x-python",
   "name": "python",
   "nbconvert_exporter": "python",
   "pygments_lexer": "ipython3",
   "version": "3.8.8"
  }
 },
 "nbformat": 4,
 "nbformat_minor": 2
}
