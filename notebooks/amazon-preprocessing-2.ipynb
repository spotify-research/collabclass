{
 "cells": [
  {
   "cell_type": "markdown",
   "metadata": {},
   "source": [
    "# Amazon graph\n",
    "\n",
    "This notebook extracts the graph from the Amazon product ratings.\n",
    "We make use of the files:\n",
    "\n",
    "- `ratings_Books.csv`\n",
    "- `ratings_Clothing_Shoes_and_Jewelry.csv`\n",
    "- `ratings_Sports_and_Outdoors.csv`\n",
    "- `ratings_Electronics.csv`\n",
    "- `ratings_CDs_and_Vinyl.csv`\n",
    "- `ratings_Apps_for_Android.csv`\n",
    "- `ratings_Beauty.csv`\n",
    "- `ratings_Cell_Phones_and_Accessories.csv`\n",
    "- `ratings_Health_and_Personal_Care.csv`\n",
    "- `ratings_Home_and_Kitchen.csv`\n",
    "- `ratings_Movies_and_TV.csv`\n",
    "- `ratings_Office_Products.csv`\n",
    "- `ratings_Tools_and_Home_Improvement.csv`\n",
    "- `ratings_Toys_and_Games.csv`\n",
    "- `ratings_Video_Games.csv`\n",
    "\n",
    "available at <http://jmcauley.ucsd.edu/data/amazon/>."
   ]
  },
  {
   "cell_type": "code",
   "execution_count": 1,
   "metadata": {},
   "outputs": [],
   "source": [
    "import collabclass\n",
    "import glob\n",
    "import numpy as np\n",
    "import pickle\n",
    "import matplotlib.pyplot as plt"
   ]
  },
  {
   "cell_type": "code",
   "execution_count": 2,
   "metadata": {},
   "outputs": [
    {
     "name": "stdout",
     "output_type": "stream",
     "text": [
      "CPU times: user 2.02 s, sys: 450 ms, total: 2.47 s\n",
      "Wall time: 2.49 s\n"
     ]
    }
   ],
   "source": [
    "%%time\n",
    "with open(\"../_data/amazon/categories-final.pkl\", \"rb\") as f:\n",
    "    cats = pickle.load(f)"
   ]
  },
  {
   "cell_type": "code",
   "execution_count": 3,
   "metadata": {},
   "outputs": [
    {
     "name": "stdout",
     "output_type": "stream",
     "text": [
      "processing '../_data/amazon/ratings/ratings_Movies_and_TV.csv'\n",
      "processing '../_data/amazon/ratings/ratings_Toys_and_Games.csv'\n",
      "processing '../_data/amazon/ratings/ratings_Clothing_Shoes_and_Jewelry.csv'\n",
      "processing '../_data/amazon/ratings/ratings_Beauty.csv'\n",
      "processing '../_data/amazon/ratings/ratings_Books.csv'\n",
      "processing '../_data/amazon/ratings/ratings_CDs_and_Vinyl.csv'\n",
      "processing '../_data/amazon/ratings/ratings_Office_Products.csv'\n",
      "processing '../_data/amazon/ratings/ratings_Electronics.csv'\n",
      "processing '../_data/amazon/ratings/ratings_Health_and_Personal_Care.csv'\n",
      "processing '../_data/amazon/ratings/ratings_Apps_for_Android.csv'\n",
      "processing '../_data/amazon/ratings/ratings_Home_and_Kitchen.csv'\n",
      "processing '../_data/amazon/ratings/ratings_Sports_and_Outdoors.csv'\n",
      "processing '../_data/amazon/ratings/ratings_Cell_Phones_and_Accessories.csv'\n",
      "processing '../_data/amazon/ratings/ratings_Video_Games.csv'\n",
      "processing '../_data/amazon/ratings/ratings_Tools_and_Home_Improvement.csv'\n",
      "CPU times: user 1min 25s, sys: 4.69 s, total: 1min 29s\n",
      "Wall time: 1min 30s\n"
     ]
    }
   ],
   "source": [
    "%%time\n",
    "user_cnt = 0\n",
    "item_cnt = 0\n",
    "\n",
    "user2idx = dict()\n",
    "item2idx = dict()\n",
    "\n",
    "edges = list()\n",
    "\n",
    "for fname in glob.glob(\"../_data/amazon/ratings/ratings_*.csv\"):\n",
    "    print(f\"processing '{fname}'\")\n",
    "    with open(fname) as f:\n",
    "        for line in f:\n",
    "            uid, asin, _, _ = line.strip().split(\",\")\n",
    "            if asin not in cats:\n",
    "                # Ignore items to which we have not assigned a category.\n",
    "                continue\n",
    "            if uid not in user2idx:\n",
    "                user2idx[uid] = user_cnt\n",
    "                user_cnt += 1\n",
    "            if asin not in item2idx:\n",
    "                item2idx[asin] = item_cnt\n",
    "                item_cnt += 1\n",
    "            edges.append((user2idx[uid], item2idx[asin]))"
   ]
  },
  {
   "cell_type": "code",
   "execution_count": 4,
   "metadata": {},
   "outputs": [
    {
     "name": "stdout",
     "output_type": "stream",
     "text": [
      "Number of users:  14,216,570\n",
      "Number of items:   4,849,549\n",
      "Number of edges:  43,065,188\n",
      "CPU times: user 1min 57s, sys: 10.2 s, total: 2min 7s\n",
      "Wall time: 2min 14s\n"
     ]
    }
   ],
   "source": [
    "%%time\n",
    "m = len(user2idx)\n",
    "n = len(item2idx)\n",
    "k = len(set(cats.values()))\n",
    "\n",
    "graph = collabclass.graph_from_edges(m, n, edges)\n",
    "\n",
    "print(\"Number of users:  {:,}\".format(m))\n",
    "print(\"Number of items:   {:,}\".format(n))\n",
    "print(\"Number of edges:  {:,}\".format(len(graph.user_edges)))"
   ]
  },
  {
   "cell_type": "code",
   "execution_count": 5,
   "metadata": {},
   "outputs": [
    {
     "name": "stdout",
     "output_type": "stream",
     "text": [
      "CPU times: user 8.25 s, sys: 7.86 s, total: 16.1 s\n",
      "Wall time: 20.8 s\n"
     ]
    }
   ],
   "source": [
    "%%time\n",
    "with open(\"../_data/amazon/graph-final.pkl\", \"wb\") as f:\n",
    "    pickle.dump({\n",
    "        \"graph\": graph,\n",
    "        \"user2idx\": user2idx,\n",
    "        \"item2idx\": item2idx,\n",
    "    }, f)"
   ]
  },
  {
   "cell_type": "markdown",
   "metadata": {},
   "source": [
    "## Degree distributions"
   ]
  },
  {
   "cell_type": "code",
   "execution_count": 6,
   "metadata": {},
   "outputs": [
    {
     "data": {
      "image/png": "[encoded data removed]",
      "text/plain": [
       "<Figure size 720x432 with 2 Axes>"
      ]
     },
     "metadata": {
      "needs_background": "light"
     },
     "output_type": "display_data"
    }
   ],
   "source": [
    "fig, (ax1, ax2) = plt.subplots(nrows=2, figsize=(10, 6), sharex=True)\n",
    "bins = np.arange(1, 30)\n",
    "\n",
    "ax1.hist(graph.item_idx[:,1], bins=bins)\n",
    "ax1.set_title(\"Histogram of item degrees\")\n",
    "\n",
    "ax2.hist(graph.user_idx[:,1], bins=bins)\n",
    "ax2.set_title(\"Histogram of user degrees\")\n",
    "\n",
    "ax2.set_xticks(bins);"
   ]
  }
 ],
 "metadata": {
  "kernelspec": {
   "display_name": "Python 3",
   "language": "python",
   "name": "python3"
  },
  "language_info": {
   "codemirror_mode": {
    "name": "ipython",
    "version": 3
   },
   "file_extension": ".py",
   "mimetype": "text/x-python",
   "name": "python",
   "nbconvert_exporter": "python",
   "pygments_lexer": "ipython3",
   "version": "3.8.8"
  }
 },
 "nbformat": 4,
 "nbformat_minor": 2
}
