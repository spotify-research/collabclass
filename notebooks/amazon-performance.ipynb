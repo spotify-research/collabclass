{
 "cells": [
  {
   "cell_type": "markdown",
   "metadata": {},
   "source": [
    "# Amazon, performance"
   ]
  },
  {
   "cell_type": "code",
   "execution_count": 1,
   "metadata": {},
   "outputs": [],
   "source": [
    "import collabclass\n",
    "import matplotlib.pyplot as plt\n",
    "import numpy as np\n",
    "import pickle"
   ]
  },
  {
   "cell_type": "code",
   "execution_count": 2,
   "metadata": {},
   "outputs": [
    {
     "name": "stdout",
     "output_type": "stream",
     "text": [
      "CPU times: user 12.9 s, sys: 2.45 s, total: 15.3 s\n",
      "Wall time: 15.4 s\n"
     ]
    }
   ],
   "source": [
    "%%time\n",
    "with open(\"../_data/amazon/categories-final.pkl\", \"rb\") as f:\n",
    "    cats = pickle.load(f)\n",
    "    \n",
    "with open(\"../_data/amazon/graph-final.pkl\", \"rb\") as f:\n",
    "    data = pickle.load(f)\n",
    "    graph = data[\"graph\"]\n",
    "    item2idx = data[\"item2idx\"]\n",
    "    user2idx = data[\"user2idx\"]\n",
    "    \n",
    "m = len(graph.user_idx)\n",
    "n = len(graph.item_idx)\n",
    "k = len(set(cats.values()))\n",
    "\n",
    "cls2idx = {cls: idx for idx, cls in enumerate(sorted(set(cats.values())))}\n",
    "\n",
    "idx2item = {v: k for k, v in item2idx.items()}\n",
    "vs = list()\n",
    "for j in range(n):\n",
    "    cat = cats[idx2item[j]]\n",
    "    vs.append(cls2idx[cat])\n",
    "vs = np.array(vs)"
   ]
  },
  {
   "cell_type": "code",
   "execution_count": 3,
   "metadata": {},
   "outputs": [
    {
     "name": "stdout",
     "output_type": "stream",
     "text": [
      "Number of users: 14,216,570\n",
      "Number of items:  4,849,549\n",
      "Number of edges: 43,065,188\n"
     ]
    }
   ],
   "source": [
    "print(\"Number of users: {:,}\".format(m))\n",
    "print(\"Number of items:  {:,}\".format(n))\n",
    "print(\"Number of edges: {:,}\".format(len(graph.user_edges)))"
   ]
  },
  {
   "cell_type": "code",
   "execution_count": 4,
   "metadata": {},
   "outputs": [],
   "source": [
    "np.random.seed(0)\n",
    "vs_hat = collabclass.symmetric_channel(vs, k, delta=0.1)"
   ]
  },
  {
   "cell_type": "code",
   "execution_count": 5,
   "metadata": {},
   "outputs": [
    {
     "data": {
      "image/png": "[encoded data removed]",
      "text/plain": [
       "<Figure size 432x288 with 1 Axes>"
      ]
     },
     "metadata": {
      "needs_background": "light"
     },
     "output_type": "display_data"
    }
   ],
   "source": [
    "vals, cnts = np.unique(vs, return_counts=True)\n",
    "\n",
    "fig, ax = plt.subplots()\n",
    "ax.bar(vals, cnts / cnts.sum());\n",
    "ax.set_xticks(vals)\n",
    "ax.set_xticklabels(sorted(set(cats.values())), rotation=30, ha=\"right\");"
   ]
  },
  {
   "cell_type": "markdown",
   "metadata": {},
   "source": [
    "## CAVI"
   ]
  },
  {
   "cell_type": "code",
   "execution_count": 6,
   "metadata": {},
   "outputs": [],
   "source": [
    "alpha = np.ones((m, k))\n",
    "beta = collabclass.init_beta(k, vs_hat, delta=0.20)"
   ]
  },
  {
   "cell_type": "code",
   "execution_count": 7,
   "metadata": {},
   "outputs": [
    {
     "name": "stdout",
     "output_type": "stream",
     "text": [
      "CPU times: user 1min 9s, sys: 886 ms, total: 1min 10s\n",
      "Wall time: 1min 10s\n"
     ]
    }
   ],
   "source": [
    "%%time\n",
    "apost, bpost = collabclass.cavi(graph, alpha, beta, 3)\n",
    "vs_bar = np.argmax(bpost, axis=1)"
   ]
  },
  {
   "cell_type": "code",
   "execution_count": 8,
   "metadata": {},
   "outputs": [
    {
     "name": "stdout",
     "output_type": "stream",
     "text": [
      "accuracy:   0.9262\n",
      "error rate: 0.0738\n",
      "FP rate:    0.0100\n",
      "FN rate:    0.6478\n"
     ]
    }
   ],
   "source": [
    "collabclass.print_accuracy(vs_bar, vs, vs_hat)"
   ]
  },
  {
   "cell_type": "code",
   "execution_count": 9,
   "metadata": {},
   "outputs": [
    {
     "name": "stdout",
     "output_type": "stream",
     "text": [
      "accuracy at 50th percentile (d ≥ 2): 0.9378\n",
      "accuracy at 90th percentile (d ≥ 15): 0.9606\n",
      "accuracy at 98th percentile (d ≥ 66): 0.9623\n"
     ]
    }
   ],
   "source": [
    "collabclass.degree_breakdown(vs_bar, vs, graph, qs=(50, 90, 98))"
   ]
  },
  {
   "cell_type": "code",
   "execution_count": 10,
   "metadata": {
    "scrolled": false
   },
   "outputs": [
    {
     "data": {
      "text/plain": [
       "array([[2215799.,   30735.,   27450.,   28795.,   26683.],\n",
       "       [  18789.,  452206.,    4586.,    5270.,    4437.],\n",
       "       [  37518.,   21877.,  974535.,   25844.,   24454.],\n",
       "       [  15816.,    8770.,    9609.,  430024.,    9404.],\n",
       "       [  19364.,    9828.,   14984.,   13882.,  418890.]])"
      ]
     },
     "execution_count": 10,
     "metadata": {},
     "output_type": "execute_result"
    },
    {
     "data": {
      "image/png": "[encoded data removed]",
      "text/plain": [
       "<Figure size 432x432 with 1 Axes>"
      ]
     },
     "metadata": {
      "needs_background": "light"
     },
     "output_type": "display_data"
    }
   ],
   "source": [
    "collabclass.confusion_matrix(vs_bar, vs)"
   ]
  },
  {
   "cell_type": "markdown",
   "metadata": {},
   "source": [
    "What about if we \"loosen\" the criterion a bit and look at the top-2 classes?"
   ]
  },
  {
   "cell_type": "code",
   "execution_count": 11,
   "metadata": {},
   "outputs": [
    {
     "name": "stdout",
     "output_type": "stream",
     "text": [
      "top-2 accuracy at 0th percentile (d ≥ 1): 0.9755\n",
      "top-2 accuracy at 50th percentile (d ≥ 2): 0.9819\n",
      "top-2 accuracy at 90th percentile (d ≥ 15): 0.9898\n",
      "top-2 accuracy at 95th percentile (d ≥ 29): 0.9899\n"
     ]
    }
   ],
   "source": [
    "collabclass.degree_breakdown_topk(bpost, vs, graph, k=2)"
   ]
  },
  {
   "cell_type": "markdown",
   "metadata": {},
   "source": [
    "## wvRN"
   ]
  },
  {
   "cell_type": "code",
   "execution_count": 12,
   "metadata": {},
   "outputs": [
    {
     "name": "stdout",
     "output_type": "stream",
     "text": [
      "CPU times: user 7.77 s, sys: 240 ms, total: 8.01 s\n",
      "Wall time: 8.02 s\n"
     ]
    }
   ],
   "source": [
    "%%time\n",
    "vs_bar = collabclass.wvrn(graph, vs_hat)"
   ]
  },
  {
   "cell_type": "code",
   "execution_count": 13,
   "metadata": {},
   "outputs": [
    {
     "name": "stdout",
     "output_type": "stream",
     "text": [
      "accuracy:   0.7177\n",
      "error rate: 0.2823\n",
      "FP rate:    0.2820\n",
      "FN rate:    0.2850\n"
     ]
    }
   ],
   "source": [
    "collabclass.print_accuracy(vs_bar, vs, vs_hat)"
   ]
  },
  {
   "cell_type": "code",
   "execution_count": 14,
   "metadata": {},
   "outputs": [
    {
     "name": "stdout",
     "output_type": "stream",
     "text": [
      "accuracy at 50th percentile (d ≥ 2): 0.7720\n",
      "accuracy at 90th percentile (d ≥ 15): 0.8382\n",
      "accuracy at 95th percentile (d ≥ 29): 0.8359\n",
      "accuracy at 99th percentile (d ≥ 115): 0.8136\n"
     ]
    }
   ],
   "source": [
    "collabclass.degree_breakdown(vs_bar, vs, graph, qs=(50, 90, 95, 99))"
   ]
  },
  {
   "cell_type": "code",
   "execution_count": 15,
   "metadata": {},
   "outputs": [
    {
     "data": {
      "text/plain": [
       "array([[2097944.,   69171.,   57299.,   77978.,   27070.],\n",
       "       [ 100921.,  360756.,    7066.,   13257.,    3288.],\n",
       "       [ 302255.,   29500.,  586498.,  103456.,   62519.],\n",
       "       [ 125245.,   16258.,   37493.,  273066.,   21561.],\n",
       "       [ 134280.,   13928.,   84126.,   82138.,  162476.]])"
      ]
     },
     "execution_count": 15,
     "metadata": {},
     "output_type": "execute_result"
    },
    {
     "data": {
      "image/png": "[encoded data removed]",
      "text/plain": [
       "<Figure size 432x432 with 1 Axes>"
      ]
     },
     "metadata": {
      "needs_background": "light"
     },
     "output_type": "display_data"
    }
   ],
   "source": [
    "collabclass.confusion_matrix(vs_bar, vs)"
   ]
  },
  {
   "cell_type": "markdown",
   "metadata": {},
   "source": [
    "## Deep dive into CAVI errors"
   ]
  },
  {
   "cell_type": "code",
   "execution_count": 16,
   "metadata": {},
   "outputs": [
    {
     "name": "stdout",
     "output_type": "stream",
     "text": [
      "CPU times: user 1min 9s, sys: 1.46 s, total: 1min 11s\n",
      "Wall time: 1min 11s\n"
     ]
    }
   ],
   "source": [
    "%%time\n",
    "# Initialize using the _true_ labels this time.\n",
    "beta = collabclass.init_beta(k, vs, delta=0.20)\n",
    "apost, bpost = collabclass.cavi(graph, alpha, beta, 3)\n",
    "vs_bar = np.argmax(bpost, axis=1)"
   ]
  },
  {
   "cell_type": "code",
   "execution_count": 17,
   "metadata": {},
   "outputs": [
    {
     "name": "stdout",
     "output_type": "stream",
     "text": [
      "---\n",
      "degree: 4735\n",
      "actual: Electronics, predicted: Books\n",
      "URL: https://www.amazon.com/dp/B005DOK8NW\n",
      "---\n",
      "degree: 3066\n",
      "actual: Sports & Outdoors, predicted: Electronics\n",
      "URL: https://www.amazon.com/dp/B000LIFB7S\n",
      "---\n",
      "degree: 1620\n",
      "actual: Electronics, predicted: Books\n",
      "URL: https://www.amazon.com/dp/B004JXVOD6\n",
      "---\n",
      "degree: 1562\n",
      "actual: Electronics, predicted: Books\n",
      "URL: https://www.amazon.com/dp/B006BGZJJ4\n",
      "---\n",
      "degree: 1306\n",
      "actual: Electronics, predicted: Books\n",
      "URL: https://www.amazon.com/dp/B007R5YGO2\n",
      "---\n",
      "degree: 1229\n",
      "actual: Electronics, predicted: Books\n",
      "URL: https://www.amazon.com/dp/B006ZBWV0K\n",
      "---\n",
      "degree: 1166\n",
      "actual: Electronics, predicted: Books\n",
      "URL: https://www.amazon.com/dp/B005QCDY50\n",
      "---\n",
      "degree: 1156\n",
      "actual: Electronics, predicted: Books\n",
      "URL: https://www.amazon.com/dp/B004JWA70I\n",
      "---\n",
      "degree: 1135\n",
      "actual: Electronics, predicted: Books\n",
      "URL: https://www.amazon.com/dp/B0079UAT0A\n",
      "---\n",
      "degree: 981\n",
      "actual: Electronics, predicted: Books\n",
      "URL: https://www.amazon.com/dp/B009NHWVIA\n"
     ]
    }
   ],
   "source": [
    "idx2cls = {v: k for k, v in cls2idx.items()}\n",
    "indices = np.argwhere(vs_bar != vs).ravel()\n",
    "degrees = graph.item_idx[indices,1]\n",
    "\n",
    "for d, i in sorted(zip(degrees, indices), reverse=True)[:10]:\n",
    "    print(\"---\")\n",
    "    print(f\"degree: {d}\")\n",
    "    print(f\"actual: {cats[idx2item[i]]}, predicted: {idx2cls[vs_bar[i]]}\")\n",
    "    print(f\"URL: https://www.amazon.com/dp/{idx2item[i]}\")"
   ]
  }
 ],
 "metadata": {
  "kernelspec": {
   "display_name": "Python 3",
   "language": "python",
   "name": "python3"
  },
  "language_info": {
   "codemirror_mode": {
    "name": "ipython",
    "version": 3
   },
   "file_extension": ".py",
   "mimetype": "text/x-python",
   "name": "python",
   "nbconvert_exporter": "python",
   "pygments_lexer": "ipython3",
   "version": "3.8.8"
  }
 },
 "nbformat": 4,
 "nbformat_minor": 2
}
