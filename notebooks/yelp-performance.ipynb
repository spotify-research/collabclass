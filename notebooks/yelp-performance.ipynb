{
 "cells": [
  {
   "cell_type": "markdown",
   "metadata": {},
   "source": [
    "# Yelp, performance\n",
    "\n",
    "Applying collaborative classification on the states. (Easy problem)"
   ]
  },
  {
   "cell_type": "code",
   "execution_count": 1,
   "metadata": {},
   "outputs": [],
   "source": [
    "import collabclass\n",
    "import json\n",
    "import matplotlib.pyplot as plt\n",
    "import numpy as np"
   ]
  },
  {
   "cell_type": "code",
   "execution_count": 2,
   "metadata": {},
   "outputs": [],
   "source": [
    "classes = (\n",
    "    \"AZ\",\n",
    "    \"NV\",\n",
    "    \"ON\",\n",
    "    \"OH\",\n",
    "    \"NC\",\n",
    "    \"PA\",\n",
    "    \"QC\",\n",
    "    \"AB\",\n",
    "    \"WI\",\n",
    "    \"IL\",\n",
    ")\n",
    "\n",
    "cls2idx = {cls: idx for idx, cls in enumerate(classes)}\n",
    "k = len(cls2idx)"
   ]
  },
  {
   "cell_type": "markdown",
   "metadata": {},
   "source": [
    "The dataset is publicly available at <https://www.yelp.com/dataset>."
   ]
  },
  {
   "cell_type": "code",
   "execution_count": 3,
   "metadata": {},
   "outputs": [
    {
     "name": "stdout",
     "output_type": "stream",
     "text": [
      "CPU times: user 1.94 s, sys: 64.6 ms, total: 2.01 s\n",
      "Wall time: 2.01 s\n"
     ]
    }
   ],
   "source": [
    "%%time\n",
    "label = dict()\n",
    "with open(\"../_data/yelp/yelp_academic_dataset_business.json\") as f:\n",
    "    for line in f:\n",
    "        biz = json.loads(line)\n",
    "        if biz[\"state\"] in classes:\n",
    "            label[biz[\"business_id\"]] = biz[\"state\"]"
   ]
  },
  {
   "cell_type": "code",
   "execution_count": 4,
   "metadata": {},
   "outputs": [
    {
     "name": "stdout",
     "output_type": "stream",
     "text": [
      "CPU times: user 1min 14s, sys: 3.37 s, total: 1min 17s\n",
      "Wall time: 1min 18s\n"
     ]
    }
   ],
   "source": [
    "%%time\n",
    "\n",
    "user_cnt = 0\n",
    "item_cnt = 0\n",
    "user2idx = dict()\n",
    "item2idx = dict()\n",
    "\n",
    "edges = list()\n",
    "\n",
    "with open(\"../_data/yelp/yelp_academic_dataset_review.json\") as f:\n",
    "    for line in f:\n",
    "        x = json.loads(line)\n",
    "        uid = x[\"user_id\"]\n",
    "        bid = x[\"business_id\"]\n",
    "        if bid not in label:\n",
    "            # We don't have the business -> skip.\n",
    "            continue\n",
    "        if bid not in item2idx:\n",
    "            item2idx[bid] = item_cnt\n",
    "            item_cnt += 1\n",
    "        if uid not in user2idx:\n",
    "            user2idx[uid] = user_cnt\n",
    "            user_cnt += 1\n",
    "        edges.append((user2idx[uid], item2idx[bid]))\n",
    "\n",
    "m = user_cnt\n",
    "n = item_cnt\n",
    "    \n",
    "graph = collabclass.graph_from_edges(m, n, edges)"
   ]
  },
  {
   "cell_type": "code",
   "execution_count": 5,
   "metadata": {},
   "outputs": [
    {
     "name": "stdout",
     "output_type": "stream",
     "text": [
      "Number of users: 1,962,440\n",
      "Number of items:   207,974\n",
      "Number of edges: 7,990,277\n"
     ]
    }
   ],
   "source": [
    "print(\"Number of users: {:,}\".format(m))\n",
    "print(\"Number of items:   {:,}\".format(n))\n",
    "print(\"Number of edges: {:,}\".format(len(graph.user_edges)))"
   ]
  },
  {
   "cell_type": "code",
   "execution_count": 6,
   "metadata": {},
   "outputs": [],
   "source": [
    "idx2item = {v: k for k, v in item2idx.items()}\n",
    "vs = list()\n",
    "for j in range(n):\n",
    "    cat = label[idx2item[j]]\n",
    "    vs.append(cls2idx[cat])\n",
    "vs = np.array(vs)"
   ]
  },
  {
   "cell_type": "code",
   "execution_count": 7,
   "metadata": {},
   "outputs": [],
   "source": [
    "np.random.seed(0)\n",
    "vs_hat = collabclass.symmetric_channel(vs, k, delta=0.1)"
   ]
  },
  {
   "cell_type": "code",
   "execution_count": 8,
   "metadata": {},
   "outputs": [
    {
     "data": {
      "image/png": "[encoded data removed]",
      "text/plain": [
       "<Figure size 432x288 with 1 Axes>"
      ]
     },
     "metadata": {
      "needs_background": "light"
     },
     "output_type": "display_data"
    }
   ],
   "source": [
    "vals, cnts = np.unique(vs, return_counts=True)\n",
    "\n",
    "fig, ax = plt.subplots()\n",
    "ax.bar(vals, cnts / cnts.sum());\n",
    "ax.set_xticks(vals)\n",
    "ax.set_xticklabels(classes, rotation=30, ha=\"right\");"
   ]
  },
  {
   "cell_type": "markdown",
   "metadata": {},
   "source": [
    "### CAVI"
   ]
  },
  {
   "cell_type": "code",
   "execution_count": 9,
   "metadata": {},
   "outputs": [],
   "source": [
    "alpha = np.ones((m, k))\n",
    "beta = collabclass.init_beta(k, vs_hat, delta=0.75)"
   ]
  },
  {
   "cell_type": "code",
   "execution_count": 10,
   "metadata": {},
   "outputs": [
    {
     "name": "stdout",
     "output_type": "stream",
     "text": [
      "CPU times: user 9.15 s, sys: 223 ms, total: 9.37 s\n",
      "Wall time: 9.42 s\n"
     ]
    }
   ],
   "source": [
    "%%time\n",
    "apost, bpost = collabclass.cavi(graph, alpha, beta, 3)\n",
    "vs_bar = np.argmax(bpost, axis=1)"
   ]
  },
  {
   "cell_type": "code",
   "execution_count": 11,
   "metadata": {},
   "outputs": [
    {
     "name": "stdout",
     "output_type": "stream",
     "text": [
      "accuracy:   0.9948\n",
      "error rate: 0.0052\n",
      "FP rate:    0.0019\n",
      "FN rate:    0.0342\n"
     ]
    }
   ],
   "source": [
    "collabclass.print_accuracy(vs_bar, vs, vs_hat)"
   ]
  },
  {
   "cell_type": "code",
   "execution_count": 12,
   "metadata": {},
   "outputs": [
    {
     "name": "stdout",
     "output_type": "stream",
     "text": [
      "accuracy at 50th percentile (d ≥ 10): 0.9985\n",
      "accuracy at 90th percentile (d ≥ 81): 0.9993\n",
      "accuracy at 98th percentile (d ≥ 301): 0.9993\n"
     ]
    }
   ],
   "source": [
    "collabclass.degree_breakdown(vs_bar, vs, graph, qs=(50, 90, 98))"
   ]
  },
  {
   "cell_type": "code",
   "execution_count": 13,
   "metadata": {},
   "outputs": [
    {
     "data": {
      "image/png": "[encoded data removed]",
      "text/plain": [
       "<Figure size 432x432 with 1 Axes>"
      ]
     },
     "metadata": {
      "needs_background": "light"
     },
     "output_type": "display_data"
    }
   ],
   "source": [
    "collabclass.confusion_matrix(vs_bar, vs);"
   ]
  },
  {
   "cell_type": "code",
   "execution_count": 14,
   "metadata": {},
   "outputs": [
    {
     "name": "stdout",
     "output_type": "stream",
     "text": [
      "top-2 accuracy at 0th percentile (d ≥ 3): 0.9984\n",
      "top-2 accuracy at 50th percentile (d ≥ 10): 0.9997\n",
      "top-2 accuracy at 90th percentile (d ≥ 81): 0.9997\n",
      "top-2 accuracy at 95th percentile (d ≥ 151): 0.9997\n"
     ]
    }
   ],
   "source": [
    "collabclass.degree_breakdown_topk(bpost, vs, graph, k=2)"
   ]
  },
  {
   "cell_type": "markdown",
   "metadata": {},
   "source": [
    "## wvRN"
   ]
  },
  {
   "cell_type": "code",
   "execution_count": 15,
   "metadata": {},
   "outputs": [
    {
     "name": "stdout",
     "output_type": "stream",
     "text": [
      "CPU times: user 1.4 s, sys: 52.3 ms, total: 1.45 s\n",
      "Wall time: 1.45 s\n"
     ]
    }
   ],
   "source": [
    "%%time\n",
    "vs_bar = collabclass.wvrn(graph, vs_hat)"
   ]
  },
  {
   "cell_type": "code",
   "execution_count": 16,
   "metadata": {},
   "outputs": [
    {
     "name": "stdout",
     "output_type": "stream",
     "text": [
      "accuracy:   0.9737\n",
      "error rate: 0.0263\n",
      "FP rate:    0.0261\n",
      "FN rate:    0.0277\n"
     ]
    }
   ],
   "source": [
    "collabclass.print_accuracy(vs_bar, vs, vs_hat)"
   ]
  },
  {
   "cell_type": "code",
   "execution_count": 17,
   "metadata": {},
   "outputs": [
    {
     "name": "stdout",
     "output_type": "stream",
     "text": [
      "accuracy at 50th percentile (d ≥ 10): 0.9884\n",
      "accuracy at 90th percentile (d ≥ 81): 0.9950\n",
      "accuracy at 95th percentile (d ≥ 151): 0.9960\n",
      "accuracy at 99th percentile (d ≥ 468): 0.9952\n"
     ]
    }
   ],
   "source": [
    "collabclass.degree_breakdown(vs_bar, vs, graph, qs=(50, 90, 95, 99))"
   ]
  },
  {
   "cell_type": "code",
   "execution_count": 18,
   "metadata": {},
   "outputs": [
    {
     "name": "stderr",
     "output_type": "stream",
     "text": [
      "/Users/lucasm/Documents/in-progress/collabclass/lib/collabclass/eval.py:59: RuntimeWarning: divide by zero encountered in log\n",
      "  ax.imshow(np.log(mat))\n"
     ]
    },
    {
     "data": {
      "image/png": "[encoded data removed]",
      "text/plain": [
       "<Figure size 432x432 with 1 Axes>"
      ]
     },
     "metadata": {
      "needs_background": "light"
     },
     "output_type": "display_data"
    }
   ],
   "source": [
    "collabclass.confusion_matrix(vs_bar, vs);"
   ]
  },
  {
   "cell_type": "markdown",
   "metadata": {},
   "source": [
    "## Deep dive into CAVI errors"
   ]
  },
  {
   "cell_type": "code",
   "execution_count": 19,
   "metadata": {},
   "outputs": [
    {
     "data": {
      "text/plain": [
       "1077"
      ]
     },
     "execution_count": 19,
     "metadata": {},
     "output_type": "execute_result"
    }
   ],
   "source": [
    "idx2cls = {v: k for k, v in cls2idx.items()}\n",
    "vs_bar = np.argmax(bpost, axis=1)\n",
    "indices = np.argwhere(vs_bar != vs).ravel()\n",
    "len(indices)"
   ]
  },
  {
   "cell_type": "code",
   "execution_count": 20,
   "metadata": {},
   "outputs": [
    {
     "name": "stdout",
     "output_type": "stream",
     "text": [
      "---\n",
      "predicted: NC, actual: AB\n",
      "605 reviews\n",
      "https://www.yelp.co.uk/biz/ADV5PA_XMBgbfn92ptu1sA\n",
      "---\n",
      "predicted: OH, actual: QC\n",
      "449 reviews\n",
      "https://www.yelp.co.uk/biz/xJq2h6RzINWfzb3E0Z3ryQ\n",
      "---\n",
      "predicted: NV, actual: WI\n",
      "328 reviews\n",
      "https://www.yelp.co.uk/biz/GXXJm8qTZQPARaSpRaED6Q\n",
      "---\n",
      "predicted: NV, actual: ON\n",
      "284 reviews\n",
      "https://www.yelp.co.uk/biz/WSirMxtVe893j3edfPr_vQ\n",
      "---\n",
      "predicted: NC, actual: IL\n",
      "284 reviews\n",
      "https://www.yelp.co.uk/biz/cMHgw40ldvUBxTYNeZjHQg\n",
      "---\n",
      "predicted: NC, actual: OH\n",
      "228 reviews\n",
      "https://www.yelp.co.uk/biz/t0aja59cII8eEVmC_x4sBw\n",
      "---\n",
      "predicted: NV, actual: OH\n",
      "184 reviews\n",
      "https://www.yelp.co.uk/biz/CuGKpwglLEAxLYxlwp7UUQ\n",
      "---\n",
      "predicted: PA, actual: NV\n",
      "161 reviews\n",
      "https://www.yelp.co.uk/biz/h23R_mGy3ZdKlOYj57bheQ\n",
      "---\n",
      "predicted: AZ, actual: QC\n",
      "147 reviews\n",
      "https://www.yelp.co.uk/biz/dS02-F6N5vIsJZPmYmqmBg\n",
      "---\n",
      "predicted: AZ, actual: ON\n",
      "145 reviews\n",
      "https://www.yelp.co.uk/biz/XKcRPqOo-TCMbeys0LOg6Q\n"
     ]
    }
   ],
   "source": [
    "n_revs = [graph.item_idx[i,1] for i in indices]\n",
    "\n",
    "for cnt, i in sorted(zip(n_revs, indices), reverse=True)[:10]:\n",
    "    print(\"---\")\n",
    "    print(f\"predicted: {idx2cls[vs[i]]}, actual: {idx2cls[vs_bar[i]]}\")\n",
    "    print(f\"{cnt} reviews\")\n",
    "    print(f\"https://www.yelp.co.uk/biz/{idx2item[i]}\")"
   ]
  }
 ],
 "metadata": {
  "kernelspec": {
   "display_name": "Python 3",
   "language": "python",
   "name": "python3"
  },
  "language_info": {
   "codemirror_mode": {
    "name": "ipython",
    "version": 3
   },
   "file_extension": ".py",
   "mimetype": "text/x-python",
   "name": "python",
   "nbconvert_exporter": "python",
   "pygments_lexer": "ipython3",
   "version": "3.8.8"
  }
 },
 "nbformat": 4,
 "nbformat_minor": 2
}
