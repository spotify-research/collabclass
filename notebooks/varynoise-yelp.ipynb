{
 "cells": [
  {
   "cell_type": "markdown",
   "metadata": {},
   "source": [
    "# Yelp dataset: CAVI vs noise\n",
    "    \n",
    "Experiments that explore the performance of CAVI at different levels of noise."
   ]
  },
  {
   "cell_type": "code",
   "execution_count": 1,
   "metadata": {},
   "outputs": [],
   "source": [
    "import collabclass\n",
    "import json\n",
    "import matplotlib.pyplot as plt\n",
    "import numpy as np"
   ]
  },
  {
   "cell_type": "markdown",
   "metadata": {},
   "source": [
    "## Loading & preparing the data"
   ]
  },
  {
   "cell_type": "code",
   "execution_count": 2,
   "metadata": {},
   "outputs": [],
   "source": [
    "classes = (\n",
    "    \"AZ\",\n",
    "    \"NV\",\n",
    "    \"ON\",\n",
    "    \"OH\",\n",
    "    \"NC\",\n",
    "    \"PA\",\n",
    "    \"QC\",\n",
    "    \"AB\",\n",
    "    \"WI\",\n",
    "    \"IL\",\n",
    ")\n",
    "\n",
    "cls2idx = {cls: idx for idx, cls in enumerate(classes)}\n",
    "k = len(cls2idx)"
   ]
  },
  {
   "cell_type": "code",
   "execution_count": 3,
   "metadata": {},
   "outputs": [
    {
     "name": "stdout",
     "output_type": "stream",
     "text": [
      "CPU times: user 2.19 s, sys: 89.5 ms, total: 2.28 s\n",
      "Wall time: 2.3 s\n"
     ]
    }
   ],
   "source": [
    "%%time\n",
    "label = dict()\n",
    "with open(\"../_data/yelp/yelp_academic_dataset_business.json\") as f:\n",
    "    for line in f:\n",
    "        biz = json.loads(line)\n",
    "        if biz[\"state\"] in classes:\n",
    "            label[biz[\"business_id\"]] = biz[\"state\"]"
   ]
  },
  {
   "cell_type": "code",
   "execution_count": 4,
   "metadata": {},
   "outputs": [
    {
     "name": "stdout",
     "output_type": "stream",
     "text": [
      "CPU times: user 1min 20s, sys: 3.38 s, total: 1min 23s\n",
      "Wall time: 1min 24s\n"
     ]
    }
   ],
   "source": [
    "%%time\n",
    "\n",
    "user_cnt = 0\n",
    "item_cnt = 0\n",
    "user2idx = dict()\n",
    "item2idx = dict()\n",
    "\n",
    "edges = list()\n",
    "\n",
    "with open(\"../_data/yelp/yelp_academic_dataset_review.json\") as f:\n",
    "    for line in f:\n",
    "        x = json.loads(line)\n",
    "        uid = x[\"user_id\"]\n",
    "        bid = x[\"business_id\"]\n",
    "        if bid not in label:\n",
    "            # We don't have the business -> skip.\n",
    "            continue\n",
    "        if bid not in item2idx:\n",
    "            item2idx[bid] = item_cnt\n",
    "            item_cnt += 1\n",
    "        if uid not in user2idx:\n",
    "            user2idx[uid] = user_cnt\n",
    "            user_cnt += 1\n",
    "        edges.append((user2idx[uid], item2idx[bid]))\n",
    "\n",
    "m = user_cnt\n",
    "n = item_cnt\n",
    "    \n",
    "graph = collabclass.graph_from_edges(m, n, edges)"
   ]
  },
  {
   "cell_type": "code",
   "execution_count": 5,
   "metadata": {},
   "outputs": [
    {
     "name": "stdout",
     "output_type": "stream",
     "text": [
      "Number of users: 1,962,440\n",
      "Number of items:   207,974\n",
      "Number of edges: 7,990,277\n"
     ]
    }
   ],
   "source": [
    "print(\"Number of users: {:,}\".format(m))\n",
    "print(\"Number of items:   {:,}\".format(n))\n",
    "print(\"Number of edges: {:,}\".format(len(graph.user_edges)))"
   ]
  },
  {
   "cell_type": "code",
   "execution_count": 6,
   "metadata": {},
   "outputs": [],
   "source": [
    "idx2item = {v: k for k, v in item2idx.items()}\n",
    "vs = list()\n",
    "for j in range(n):\n",
    "    cat = label[idx2item[j]]\n",
    "    vs.append(cls2idx[cat])\n",
    "vs = np.array(vs)"
   ]
  },
  {
   "cell_type": "markdown",
   "metadata": {},
   "source": [
    "## Plot results"
   ]
  },
  {
   "cell_type": "code",
   "execution_count": 7,
   "metadata": {},
   "outputs": [
    {
     "name": "stdout",
     "output_type": "stream",
     "text": [
      "...........\n",
      "CPU times: user 1min 48s, sys: 3.18 s, total: 1min 51s\n",
      "Wall time: 1min 52s\n"
     ]
    }
   ],
   "source": [
    "%%time\n",
    "deltas = np.linspace(0.05, 0.85, num=9)\n",
    "alpha = np.ones((m, k))\n",
    "\n",
    "np.random.seed(0)\n",
    "deltas2 = np.hstack(([0], deltas, [0.9]))\n",
    "res2a = np.zeros(len(deltas2))\n",
    "res2b = np.zeros(len(deltas2))\n",
    "inf_deltas = np.array([1e-7, 0.6, 0.8, 0.87, 0.87, 0.87, 0.87, 0.87, 0.87, 0.895, 0.895])\n",
    "for i, delta in enumerate(deltas2):\n",
    "    print(\".\", end=\"\", flush=True)\n",
    "    vs_hat = collabclass.symmetric_channel(vs, k, delta=delta)\n",
    "    beta = collabclass.init_beta(k, vs_hat, delta=inf_deltas[i])\n",
    "    apost, bpost = collabclass.cavi(graph, alpha, beta, 3)\n",
    "    rankings = np.argsort(bpost, axis=1)[:,::-1]\n",
    "    top1 = (rankings[:,0] != vs)\n",
    "    ps = np.percentile(graph.item_idx[:,1], (50, 90, 98))\n",
    "    mask = (graph.item_idx[:,1] >= ps[1])\n",
    "    res2a[i] = np.count_nonzero(top1) / len(vs)\n",
    "    res2b[i] = np.count_nonzero(top1[mask]) / np.count_nonzero(mask)\n",
    "print()"
   ]
  },
  {
   "cell_type": "code",
   "execution_count": 8,
   "metadata": {},
   "outputs": [
    {
     "data": {
      "text/plain": [
       "<matplotlib.legend.Legend at 0x122834880>"
      ]
     },
     "execution_count": 8,
     "metadata": {},
     "output_type": "execute_result"
    },
    {
     "data": {
      "image/png": "[encoded data removed]",
      "text/plain": [
       "<Figure size 648x432 with 1 Axes>"
      ]
     },
     "metadata": {
      "needs_background": "light"
     },
     "output_type": "display_data"
    }
   ],
   "source": [
    "fig, ax = plt.subplots(figsize=(9, 6))\n",
    "\n",
    "ax.plot(deltas2, res2a, marker=\"o\", ms=5, label=\"CAVI all\")\n",
    "ax.plot(deltas2, res2b, marker=\"o\", ms=5, label=\"CAVI P90\")\n",
    "ax.plot(deltas2, deltas2, ls=\"--\")\n",
    "ax.axvline(0.9, ls=\":\")\n",
    "ax.set_ylim(bottom=0.0)\n",
    "ax.set_xlabel(\"Corruption rate\")\n",
    "ax.set_ylabel(\"Error rate\")\n",
    "ax.legend()"
   ]
  }
 ],
 "metadata": {
  "kernelspec": {
   "display_name": "Python 3",
   "language": "python",
   "name": "python3"
  },
  "language_info": {
   "codemirror_mode": {
    "name": "ipython",
    "version": 3
   },
   "file_extension": ".py",
   "mimetype": "text/x-python",
   "name": "python",
   "nbconvert_exporter": "python",
   "pygments_lexer": "ipython3",
   "version": "3.8.8"
  }
 },
 "nbformat": 4,
 "nbformat_minor": 2
}
