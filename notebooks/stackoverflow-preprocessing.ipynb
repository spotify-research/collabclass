{
 "cells": [
  {
   "cell_type": "markdown",
   "metadata": {},
   "source": [
    "# StackOverflow, preprocessing\n",
    "\n",
    "This notebook analyzes the distribution of StackOverflow tags and assigns ground-truth classes to items.\n",
    "\n",
    "Follow the instructions under `script/README.md` to download and pre-process the raw dataset."
   ]
  },
  {
   "cell_type": "code",
   "execution_count": 1,
   "metadata": {},
   "outputs": [],
   "source": [
    "import collabclass\n",
    "import collections\n",
    "import matplotlib.pyplot as plt\n",
    "import numpy as np\n",
    "import pickle"
   ]
  },
  {
   "cell_type": "code",
   "execution_count": 2,
   "metadata": {},
   "outputs": [],
   "source": [
    "with open(\"../_data/stackoverflow/workspace.pkl\", \"rb\") as f:\n",
    "    data = pickle.load(f)\n",
    "qs = data[\"questions\"]\n",
    "edges = data[\"edges\"]"
   ]
  },
  {
   "cell_type": "code",
   "execution_count": 3,
   "metadata": {},
   "outputs": [],
   "source": [
    "counter = collections.Counter()\n",
    "\n",
    "for x in qs.values():\n",
    "    for t in x[\"tags\"]:\n",
    "        counter[t] += 1"
   ]
  },
  {
   "cell_type": "code",
   "execution_count": 4,
   "metadata": {},
   "outputs": [
    {
     "name": "stdout",
     "output_type": "stream",
     "text": [
      "\"java\",  # 129,666\n",
      "\"c#\",  # 122,598\n",
      "\"javascript\",  # 114,580\n",
      "\"python\",  # 108,494\n",
      "\"android\",  # 102,061\n",
      "\"c++\",  # 76,305\n",
      "\"php\",  # 56,859\n",
      "\"ios\",  # 55,215\n",
      "\"html\",  # 48,076\n",
      "\"jquery\",  # 46,467\n",
      "\".net\",  # 42,898\n",
      "\"css\",  # 38,241\n",
      "\"c\",  # 30,974\n",
      "\"objective-c\",  # 27,425\n",
      "\"r\",  # 26,176\n",
      "\"sql\",  # 25,811\n",
      "\"ruby-on-rails\",  # 25,326\n",
      "\"iphone\",  # 23,861\n",
      "\"mysql\",  # 23,691\n",
      "\"node.js\",  # 22,269\n",
      "\"asp.net\",  # 22,186\n",
      "\"ruby\",  # 20,313\n",
      "\"swift\",  # 19,095\n",
      "\"git\",  # 18,877\n",
      "\"linux\",  # 18,255\n",
      "\"django\",  # 17,381\n",
      "\"sql-server\",  # 16,617\n",
      "\"arrays\",  # 16,039\n",
      "\"asp.net-mvc\",  # 15,831\n",
      "\"angularjs\",  # 15,815\n"
     ]
    }
   ],
   "source": [
    "for tag, cnt in counter.most_common(n=30):\n",
    "    print(f'\"{tag}\",  # {cnt:,}')"
   ]
  },
  {
   "cell_type": "code",
   "execution_count": 5,
   "metadata": {},
   "outputs": [],
   "source": [
    "selection = (\n",
    "    \"java\",\n",
    "    \"c#\",\n",
    "    \"javascript\",\n",
    "    \"python\",\n",
    "    \"c++\",\n",
    "    \"php\",\n",
    "    \"ios\",\n",
    "    \"r\",\n",
    "    \"sql\",\n",
    "    \"ruby-on-rails\",\n",
    ")\n",
    "tag2idx = {tag: idx for idx, tag in enumerate(selection)}"
   ]
  },
  {
   "cell_type": "code",
   "execution_count": 6,
   "metadata": {},
   "outputs": [],
   "source": [
    "vecs = list()\n",
    "for x in qs.values():\n",
    "    vec = np.zeros(len(selection))\n",
    "    for t in x[\"tags\"]:\n",
    "        if t not in tag2idx:\n",
    "            continue\n",
    "        vec[tag2idx[t]] = 1\n",
    "    vecs.append(vec)\n",
    "vecs = np.array(vecs)"
   ]
  },
  {
   "cell_type": "code",
   "execution_count": 7,
   "metadata": {},
   "outputs": [
    {
     "name": "stdout",
     "output_type": "stream",
     "text": [
      "[[1.   0.01 0.01 0.01 0.01 0.01 0.   0.   0.03 0.  ]\n",
      " [0.01 1.   0.01 0.   0.02 0.   0.   0.   0.06 0.  ]\n",
      " [0.01 0.01 1.   0.01 0.   0.05 0.02 0.   0.   0.03]\n",
      " [0.   0.   0.01 1.   0.01 0.01 0.   0.02 0.02 0.  ]\n",
      " [0.01 0.01 0.   0.01 1.   0.   0.   0.01 0.   0.  ]\n",
      " [0.   0.   0.02 0.   0.   1.   0.   0.   0.04 0.  ]\n",
      " [0.   0.   0.01 0.   0.   0.   1.   0.   0.   0.  ]\n",
      " [0.   0.   0.   0.   0.   0.   0.   1.   0.   0.  ]\n",
      " [0.01 0.01 0.   0.   0.   0.02 0.   0.   1.   0.01]\n",
      " [0.   0.   0.01 0.   0.   0.   0.   0.   0.01 1.  ]]\n"
     ]
    }
   ],
   "source": [
    "mat = np.dot(vecs.T, vecs)\n",
    "mat /= np.diag(mat)\n",
    "#mat = np.corrcoef(vecs, rowvar=False)\n",
    "with np.printoptions(precision=2, suppress=True):\n",
    "    print(mat)"
   ]
  },
  {
   "cell_type": "code",
   "execution_count": 8,
   "metadata": {},
   "outputs": [
    {
     "data": {
      "image/png": "[encoded data removed]",
      "text/plain": [
       "<Figure size 720x720 with 1 Axes>"
      ]
     },
     "metadata": {
      "needs_background": "light"
     },
     "output_type": "display_data"
    }
   ],
   "source": [
    "fig, ax = plt.subplots(figsize=(10, 10))\n",
    "ax.imshow(mat)\n",
    "ax.set_xticks(np.arange(len(selection)))\n",
    "ax.set_xticklabels(selection, rotation=\"30\", ha=\"right\")\n",
    "ax.set_yticks(np.arange(len(selection)))\n",
    "ax.set_yticklabels(selection);"
   ]
  },
  {
   "cell_type": "markdown",
   "metadata": {},
   "source": [
    "## Save final class assignment"
   ]
  },
  {
   "cell_type": "code",
   "execution_count": 9,
   "metadata": {},
   "outputs": [
    {
     "data": {
      "text/plain": [
       "704982"
      ]
     },
     "execution_count": 9,
     "metadata": {},
     "output_type": "execute_result"
    }
   ],
   "source": [
    "final = dict()\n",
    "for pid, x in qs.items():\n",
    "    tags = list(t for t in x[\"tags\"] if t in tag2idx)\n",
    "    if len(tags) == 1:\n",
    "        final[pid] = tags[0]\n",
    "len(final)"
   ]
  },
  {
   "cell_type": "code",
   "execution_count": 10,
   "metadata": {},
   "outputs": [
    {
     "name": "stdout",
     "output_type": "stream",
     "text": [
      "CPU times: user 136 ms, sys: 17.2 ms, total: 153 ms\n",
      "Wall time: 152 ms\n"
     ]
    }
   ],
   "source": [
    "%%time\n",
    "with open(\"../_data/stackoverflow/categories-final.pkl\", \"wb\") as f:\n",
    "    pickle.dump(final, f)"
   ]
  }
 ],
 "metadata": {
  "kernelspec": {
   "display_name": "Python 3",
   "language": "python",
   "name": "python3"
  },
  "language_info": {
   "codemirror_mode": {
    "name": "ipython",
    "version": 3
   },
   "file_extension": ".py",
   "mimetype": "text/x-python",
   "name": "python",
   "nbconvert_exporter": "python",
   "pygments_lexer": "ipython3",
   "version": "3.8.8"
  }
 },
 "nbformat": 4,
 "nbformat_minor": 2
}
